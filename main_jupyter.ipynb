{
 "cells": [
  {
   "cell_type": "code",
   "execution_count": 44,
   "metadata": {},
   "outputs": [],
   "source": [
    "import random\n",
    "import numpy as np\n",
    "from numpy.linalg import inv "
   ]
  },
  {
   "cell_type": "code",
   "execution_count": 45,
   "metadata": {},
   "outputs": [],
   "source": [
    "SIZE = 30\n",
    "\n",
    "S = [i for i in range(SIZE)]"
   ]
  },
  {
   "cell_type": "markdown",
   "metadata": {},
   "source": []
  },
  {
   "cell_type": "code",
   "execution_count": 46,
   "metadata": {},
   "outputs": [],
   "source": [
    "A_0 = [random.uniform(0, 1) for _ in range(SIZE)]\n",
    "suma_A = sum(A_0)\n",
    "A = [A_0[x]/suma_A for x in range(SIZE-1)]\n",
    "A.append(1-sum(A))"
   ]
  },
  {
   "cell_type": "code",
   "execution_count": 47,
   "metadata": {},
   "outputs": [],
   "source": [
    "P = []\n",
    "for i in range (SIZE):\n",
    "    fila = [random.uniform(0, 1) for _ in range(SIZE)]\n",
    "    sumaFila = sum(fila)\n",
    "    filaNormal = [fila[x]/sumaFila for x in range(SIZE-1)]\n",
    "    filaNormal.append(1-sum(filaNormal))\n",
    "\n",
    "    P.append(filaNormal)"
   ]
  },
  {
   "cell_type": "code",
   "execution_count": 48,
   "metadata": {},
   "outputs": [],
   "source": [
    "U = [random.uniform(0, 1) for _ in range(SIZE)]\n",
    "\n",
    "X = [0 for _ in range(SIZE)]"
   ]
  },
  {
   "cell_type": "code",
   "execution_count": 49,
   "metadata": {},
   "outputs": [],
   "source": [
    "def g (u: float) -> float:\n",
    "    suma = 0\n",
    "    for i in range(SIZE):\n",
    "\n",
    "        inferior = 0\n",
    "        for k in range(i):\n",
    "            inferior += A[k]   \n",
    "        superior = inferior + A[i]\n",
    "\n",
    "        #print(\"(\" + str(inferior) + \",\" + str(superior) + \"]\")\n",
    "\n",
    "        if (u > inferior) and (u <= superior):\n",
    "            suma += i\n",
    "\n",
    "    return suma\n"
   ]
  },
  {
   "cell_type": "code",
   "execution_count": 50,
   "metadata": {},
   "outputs": [],
   "source": [
    "def f (i: float, u:float):\n",
    "\n",
    "    suma = 0\n",
    "    for j in range(SIZE):\n",
    "\n",
    "        inferior = 0\n",
    "        for k in range(j):\n",
    "            inferior += P[i][k]\n",
    "        superior = inferior + P[i][j]\n",
    "\n",
    "        #print(\"(\" + str(inferior) + \",\" + str(superior) + \"]\")\n",
    "\n",
    "        if (u > inferior) and (u <= superior):\n",
    "            suma += j\n",
    "    return suma"
   ]
  },
  {
   "cell_type": "code",
   "execution_count": 51,
   "metadata": {},
   "outputs": [
    {
     "name": "stdout",
     "output_type": "stream",
     "text": [
      "[21, 0, 12, 5, 3, 4, 22, 22, 12, 2, 3, 4, 19, 28, 9, 23, 25, 8, 11, 23, 4, 28, 4, 16, 5, 20, 1, 20, 6, 15]\n"
     ]
    }
   ],
   "source": [
    "if __name__ == '__main__':\n",
    "\n",
    "    X[0] = g(U[0])\n",
    "\n",
    "    for n in range(SIZE-1):  \n",
    "        X[n+1] = f(X[n], U[n+1])\n",
    "\n",
    "    print(X)"
   ]
  }
 ],
 "metadata": {
  "kernelspec": {
   "display_name": "Python 3",
   "language": "python",
   "name": "python3"
  },
  "language_info": {
   "codemirror_mode": {
    "name": "ipython",
    "version": 3
   },
   "file_extension": ".py",
   "mimetype": "text/x-python",
   "name": "python",
   "nbconvert_exporter": "python",
   "pygments_lexer": "ipython3",
   "version": "3.7.7"
  }
 },
 "nbformat": 4,
 "nbformat_minor": 2
}
